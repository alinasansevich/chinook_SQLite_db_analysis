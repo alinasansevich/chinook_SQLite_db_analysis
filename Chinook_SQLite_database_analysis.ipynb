{
 "cells": [
  {
   "cell_type": "markdown",
   "id": "prospective-insight",
   "metadata": {},
   "source": [
    "# Add a title here :P\n",
    "\n",
    "https://www.sqlitetutorial.net/sqlite-sample-database/\n",
    "\n",
    "\n",
    "https://www.chrisnicoll.net/2020/02/exploring-an-sqlite-database-from-jupyter-notebook/\n",
    "\n",
    "\n",
    "https://www.sqlite.org/pragma.html\n",
    "\n",
    "\n",
    "\n",
    "<br>\n",
    "<br>\n",
    "from: https://docs.yugabyte.com/latest/sample-data/chinook/\n",
    "\n",
    "About the Chinook database\n",
    "\n",
    "The Chinook data model represents a digital media store, including tables for artists, albums, media tracks, invoices and customers.\n",
    "\n",
    "    Media-related data was created using real data from an Apple iTunes library.\n",
    "    Customer and employee information was created using fictitious names and addresses that can be located on Google maps, and other well formatted data (phone, fax, email, etc.)\n",
    "    Sales information was auto generated using random data for a four year period.\n",
    "\n",
    "The Chinook sample database includes:\n",
    "\n",
    "    11 tables\n",
    "    A variety of indexes, primary and foreign key constraints\n",
    "    Over 15,000 rows of data\n",
    "\n",
    "For details, here's the entity relationship diagram of the Chinook data model.\n",
    "(Add image of the db schema here)"
   ]
  },
  {
   "cell_type": "code",
   "execution_count": 11,
   "id": "limited-enough",
   "metadata": {},
   "outputs": [],
   "source": [
    "import sqlite3\n",
    "import pandas as pd\n",
    "import seaborn as sns\n",
    "import matplotlib.pyplot as plt"
   ]
  },
  {
   "cell_type": "code",
   "execution_count": 2,
   "id": "sound-directive",
   "metadata": {},
   "outputs": [],
   "source": [
    "conn = sqlite3.connect('chinook.db')\n",
    "cur = conn.cursor()"
   ]
  },
  {
   "cell_type": "markdown",
   "id": "stopped-intensity",
   "metadata": {},
   "source": [
    " from invoice table, can I get employee who closed the sale?\n",
    "    invoice table > dates: how many years of sales do I have in this db?\n",
    "\n",
    "from media_type, what is the most popular media? (i.e. best seller)\n",
    "\n",
    "from genres, what is the most popular media? (i.e. best seller)"
   ]
  },
  {
   "cell_type": "code",
   "execution_count": null,
   "id": "comprehensive-train",
   "metadata": {},
   "outputs": [],
   "source": [
    "# ToDo:\n",
    "#     Get most profitable:\n",
    "#         Genres\n",
    "#         Band\n",
    "#         Artist\n",
    "#         by nationality\n",
    "#         by language\n",
    "#         >>> plot\n",
    "#     Get Top Sales?:\n",
    "#         per Country\n",
    "#         per Customer\n",
    "#         >>> plot\n",
    "#     Get most popular:\n",
    "#         Band\n",
    "#         Artist\n",
    "#         Genres\n",
    "#         >>> plot    "
   ]
  },
  {
   "cell_type": "code",
   "execution_count": 9,
   "id": "numerous-advertiser",
   "metadata": {},
   "outputs": [
    {
     "data": {
      "text/plain": [
       "412"
      ]
     },
     "execution_count": 9,
     "metadata": {},
     "output_type": "execute_result"
    }
   ],
   "source": [
    "cur.execute(\"\"\"\n",
    "SELECT InvoiceDate\n",
    "FROM Invoices\n",
    "\"\"\")\n",
    "info = cur.fetchall()\n",
    "# print(*info, sep='\\n')  # years available: 2009-2013, 412\n",
    "len(info) # 412"
   ]
  },
  {
   "cell_type": "code",
   "execution_count": 10,
   "id": "considered-glenn",
   "metadata": {},
   "outputs": [
    {
     "name": "stdout",
     "output_type": "stream",
     "text": [
      "(412,)\n"
     ]
    }
   ],
   "source": [
    "cur.execute(\"\"\"\n",
    "SELECT COUNT(*)\n",
    "FROM Invoices\n",
    "\"\"\")\n",
    "info = cur.fetchall()\n",
    "print(*info, sep='\\n')  # I have 412 invoices"
   ]
  },
  {
   "cell_type": "code",
   "execution_count": 3,
   "id": "above-recipe",
   "metadata": {},
   "outputs": [
    {
     "data": {
      "text/html": [
       "<div>\n",
       "<style scoped>\n",
       "    .dataframe tbody tr th:only-of-type {\n",
       "        vertical-align: middle;\n",
       "    }\n",
       "\n",
       "    .dataframe tbody tr th {\n",
       "        vertical-align: top;\n",
       "    }\n",
       "\n",
       "    .dataframe thead th {\n",
       "        text-align: right;\n",
       "    }\n",
       "</style>\n",
       "<table border=\"1\" class=\"dataframe\">\n",
       "  <thead>\n",
       "    <tr style=\"text-align: right;\">\n",
       "      <th></th>\n",
       "      <th>InvoiceId</th>\n",
       "      <th>CustomerId</th>\n",
       "      <th>InvoiceDate</th>\n",
       "      <th>BillingAddress</th>\n",
       "      <th>BillingCity</th>\n",
       "      <th>BillingState</th>\n",
       "      <th>BillingCountry</th>\n",
       "      <th>BillingPostalCode</th>\n",
       "      <th>Total</th>\n",
       "    </tr>\n",
       "  </thead>\n",
       "  <tbody>\n",
       "    <tr>\n",
       "      <th>0</th>\n",
       "      <td>1</td>\n",
       "      <td>2</td>\n",
       "      <td>2009-01-01 00:00:00</td>\n",
       "      <td>Theodor-Heuss-Straße 34</td>\n",
       "      <td>Stuttgart</td>\n",
       "      <td>None</td>\n",
       "      <td>Germany</td>\n",
       "      <td>70174</td>\n",
       "      <td>1.98</td>\n",
       "    </tr>\n",
       "    <tr>\n",
       "      <th>1</th>\n",
       "      <td>2</td>\n",
       "      <td>4</td>\n",
       "      <td>2009-01-02 00:00:00</td>\n",
       "      <td>Ullevålsveien 14</td>\n",
       "      <td>Oslo</td>\n",
       "      <td>None</td>\n",
       "      <td>Norway</td>\n",
       "      <td>0171</td>\n",
       "      <td>3.96</td>\n",
       "    </tr>\n",
       "    <tr>\n",
       "      <th>2</th>\n",
       "      <td>3</td>\n",
       "      <td>8</td>\n",
       "      <td>2009-01-03 00:00:00</td>\n",
       "      <td>Grétrystraat 63</td>\n",
       "      <td>Brussels</td>\n",
       "      <td>None</td>\n",
       "      <td>Belgium</td>\n",
       "      <td>1000</td>\n",
       "      <td>5.94</td>\n",
       "    </tr>\n",
       "    <tr>\n",
       "      <th>3</th>\n",
       "      <td>4</td>\n",
       "      <td>14</td>\n",
       "      <td>2009-01-06 00:00:00</td>\n",
       "      <td>8210 111 ST NW</td>\n",
       "      <td>Edmonton</td>\n",
       "      <td>AB</td>\n",
       "      <td>Canada</td>\n",
       "      <td>T6G 2C7</td>\n",
       "      <td>8.91</td>\n",
       "    </tr>\n",
       "    <tr>\n",
       "      <th>4</th>\n",
       "      <td>5</td>\n",
       "      <td>23</td>\n",
       "      <td>2009-01-11 00:00:00</td>\n",
       "      <td>69 Salem Street</td>\n",
       "      <td>Boston</td>\n",
       "      <td>MA</td>\n",
       "      <td>USA</td>\n",
       "      <td>2113</td>\n",
       "      <td>13.86</td>\n",
       "    </tr>\n",
       "  </tbody>\n",
       "</table>\n",
       "</div>"
      ],
      "text/plain": [
       "   InvoiceId  CustomerId          InvoiceDate           BillingAddress  \\\n",
       "0          1           2  2009-01-01 00:00:00  Theodor-Heuss-Straße 34   \n",
       "1          2           4  2009-01-02 00:00:00         Ullevålsveien 14   \n",
       "2          3           8  2009-01-03 00:00:00          Grétrystraat 63   \n",
       "3          4          14  2009-01-06 00:00:00           8210 111 ST NW   \n",
       "4          5          23  2009-01-11 00:00:00          69 Salem Street   \n",
       "\n",
       "  BillingCity BillingState BillingCountry BillingPostalCode  Total  \n",
       "0   Stuttgart         None        Germany             70174   1.98  \n",
       "1        Oslo         None         Norway              0171   3.96  \n",
       "2    Brussels         None        Belgium              1000   5.94  \n",
       "3    Edmonton           AB         Canada           T6G 2C7   8.91  \n",
       "4      Boston           MA            USA              2113  13.86  "
      ]
     },
     "execution_count": 3,
     "metadata": {},
     "output_type": "execute_result"
    }
   ],
   "source": [
    "query = (\"\"\"\n",
    "SELECT *\n",
    "FROM Invoices\n",
    "\"\"\")\n",
    "\n",
    "invoices_df = pd.read_sql(query, conn)\n",
    "invoices_df.head()"
   ]
  },
  {
   "cell_type": "code",
   "execution_count": 4,
   "id": "transparent-engine",
   "metadata": {},
   "outputs": [
    {
     "data": {
      "text/html": [
       "<div>\n",
       "<style scoped>\n",
       "    .dataframe tbody tr th:only-of-type {\n",
       "        vertical-align: middle;\n",
       "    }\n",
       "\n",
       "    .dataframe tbody tr th {\n",
       "        vertical-align: top;\n",
       "    }\n",
       "\n",
       "    .dataframe thead th {\n",
       "        text-align: right;\n",
       "    }\n",
       "</style>\n",
       "<table border=\"1\" class=\"dataframe\">\n",
       "  <thead>\n",
       "    <tr style=\"text-align: right;\">\n",
       "      <th></th>\n",
       "      <th>InvoiceId</th>\n",
       "      <th>CustomerId</th>\n",
       "      <th>InvoiceDate</th>\n",
       "      <th>BillingAddress</th>\n",
       "      <th>BillingCity</th>\n",
       "      <th>BillingState</th>\n",
       "      <th>BillingCountry</th>\n",
       "      <th>BillingPostalCode</th>\n",
       "      <th>Total</th>\n",
       "      <th>Year</th>\n",
       "      <th>Month</th>\n",
       "    </tr>\n",
       "  </thead>\n",
       "  <tbody>\n",
       "    <tr>\n",
       "      <th>0</th>\n",
       "      <td>1</td>\n",
       "      <td>2</td>\n",
       "      <td>2009-01-01 00:00:00</td>\n",
       "      <td>Theodor-Heuss-Straße 34</td>\n",
       "      <td>Stuttgart</td>\n",
       "      <td>None</td>\n",
       "      <td>Germany</td>\n",
       "      <td>70174</td>\n",
       "      <td>1.98</td>\n",
       "      <td>2009</td>\n",
       "      <td>1</td>\n",
       "    </tr>\n",
       "    <tr>\n",
       "      <th>1</th>\n",
       "      <td>2</td>\n",
       "      <td>4</td>\n",
       "      <td>2009-01-02 00:00:00</td>\n",
       "      <td>Ullevålsveien 14</td>\n",
       "      <td>Oslo</td>\n",
       "      <td>None</td>\n",
       "      <td>Norway</td>\n",
       "      <td>0171</td>\n",
       "      <td>3.96</td>\n",
       "      <td>2009</td>\n",
       "      <td>1</td>\n",
       "    </tr>\n",
       "    <tr>\n",
       "      <th>2</th>\n",
       "      <td>3</td>\n",
       "      <td>8</td>\n",
       "      <td>2009-01-03 00:00:00</td>\n",
       "      <td>Grétrystraat 63</td>\n",
       "      <td>Brussels</td>\n",
       "      <td>None</td>\n",
       "      <td>Belgium</td>\n",
       "      <td>1000</td>\n",
       "      <td>5.94</td>\n",
       "      <td>2009</td>\n",
       "      <td>1</td>\n",
       "    </tr>\n",
       "    <tr>\n",
       "      <th>3</th>\n",
       "      <td>4</td>\n",
       "      <td>14</td>\n",
       "      <td>2009-01-06 00:00:00</td>\n",
       "      <td>8210 111 ST NW</td>\n",
       "      <td>Edmonton</td>\n",
       "      <td>AB</td>\n",
       "      <td>Canada</td>\n",
       "      <td>T6G 2C7</td>\n",
       "      <td>8.91</td>\n",
       "      <td>2009</td>\n",
       "      <td>1</td>\n",
       "    </tr>\n",
       "    <tr>\n",
       "      <th>4</th>\n",
       "      <td>5</td>\n",
       "      <td>23</td>\n",
       "      <td>2009-01-11 00:00:00</td>\n",
       "      <td>69 Salem Street</td>\n",
       "      <td>Boston</td>\n",
       "      <td>MA</td>\n",
       "      <td>USA</td>\n",
       "      <td>2113</td>\n",
       "      <td>13.86</td>\n",
       "      <td>2009</td>\n",
       "      <td>1</td>\n",
       "    </tr>\n",
       "  </tbody>\n",
       "</table>\n",
       "</div>"
      ],
      "text/plain": [
       "   InvoiceId  CustomerId          InvoiceDate           BillingAddress  \\\n",
       "0          1           2  2009-01-01 00:00:00  Theodor-Heuss-Straße 34   \n",
       "1          2           4  2009-01-02 00:00:00         Ullevålsveien 14   \n",
       "2          3           8  2009-01-03 00:00:00          Grétrystraat 63   \n",
       "3          4          14  2009-01-06 00:00:00           8210 111 ST NW   \n",
       "4          5          23  2009-01-11 00:00:00          69 Salem Street   \n",
       "\n",
       "  BillingCity BillingState BillingCountry BillingPostalCode  Total  Year  \\\n",
       "0   Stuttgart         None        Germany             70174   1.98  2009   \n",
       "1        Oslo         None         Norway              0171   3.96  2009   \n",
       "2    Brussels         None        Belgium              1000   5.94  2009   \n",
       "3    Edmonton           AB         Canada           T6G 2C7   8.91  2009   \n",
       "4      Boston           MA            USA              2113  13.86  2009   \n",
       "\n",
       "   Month  \n",
       "0      1  \n",
       "1      1  \n",
       "2      1  \n",
       "3      1  \n",
       "4      1  "
      ]
     },
     "execution_count": 4,
     "metadata": {},
     "output_type": "execute_result"
    }
   ],
   "source": [
    "invoices_df['Year'] = pd.DatetimeIndex(invoices_df['InvoiceDate']).year\n",
    "invoices_df['Month'] = pd.DatetimeIndex(invoices_df['InvoiceDate']).month\n",
    "invoices_df.head()"
   ]
  },
  {
   "cell_type": "code",
   "execution_count": 14,
   "id": "soviet-alaska",
   "metadata": {},
   "outputs": [],
   "source": [
    "# invoices_df[invoices_df['Month'] == 12] # @@@@@@@@@@@@@@@@@@@@@ remove later"
   ]
  },
  {
   "cell_type": "code",
   "execution_count": 5,
   "id": "adult-killing",
   "metadata": {},
   "outputs": [
    {
     "data": {
      "text/html": [
       "<div>\n",
       "<style scoped>\n",
       "    .dataframe tbody tr th:only-of-type {\n",
       "        vertical-align: middle;\n",
       "    }\n",
       "\n",
       "    .dataframe tbody tr th {\n",
       "        vertical-align: top;\n",
       "    }\n",
       "\n",
       "    .dataframe thead th {\n",
       "        text-align: right;\n",
       "    }\n",
       "</style>\n",
       "<table border=\"1\" class=\"dataframe\">\n",
       "  <thead>\n",
       "    <tr style=\"text-align: right;\">\n",
       "      <th></th>\n",
       "      <th>Count</th>\n",
       "      <th>Total</th>\n",
       "    </tr>\n",
       "    <tr>\n",
       "      <th>Month</th>\n",
       "      <th></th>\n",
       "      <th></th>\n",
       "    </tr>\n",
       "  </thead>\n",
       "  <tbody>\n",
       "    <tr>\n",
       "      <th>01</th>\n",
       "      <td>34</td>\n",
       "      <td>201.12</td>\n",
       "    </tr>\n",
       "    <tr>\n",
       "      <th>02</th>\n",
       "      <td>33</td>\n",
       "      <td>187.20</td>\n",
       "    </tr>\n",
       "    <tr>\n",
       "      <th>03</th>\n",
       "      <td>35</td>\n",
       "      <td>195.10</td>\n",
       "    </tr>\n",
       "    <tr>\n",
       "      <th>04</th>\n",
       "      <td>33</td>\n",
       "      <td>198.14</td>\n",
       "    </tr>\n",
       "    <tr>\n",
       "      <th>05</th>\n",
       "      <td>35</td>\n",
       "      <td>193.10</td>\n",
       "    </tr>\n",
       "    <tr>\n",
       "      <th>06</th>\n",
       "      <td>35</td>\n",
       "      <td>201.10</td>\n",
       "    </tr>\n",
       "    <tr>\n",
       "      <th>07</th>\n",
       "      <td>35</td>\n",
       "      <td>190.10</td>\n",
       "    </tr>\n",
       "    <tr>\n",
       "      <th>08</th>\n",
       "      <td>35</td>\n",
       "      <td>198.10</td>\n",
       "    </tr>\n",
       "    <tr>\n",
       "      <th>09</th>\n",
       "      <td>33</td>\n",
       "      <td>196.20</td>\n",
       "    </tr>\n",
       "    <tr>\n",
       "      <th>10</th>\n",
       "      <td>35</td>\n",
       "      <td>193.10</td>\n",
       "    </tr>\n",
       "    <tr>\n",
       "      <th>11</th>\n",
       "      <td>34</td>\n",
       "      <td>186.24</td>\n",
       "    </tr>\n",
       "    <tr>\n",
       "      <th>12</th>\n",
       "      <td>35</td>\n",
       "      <td>189.10</td>\n",
       "    </tr>\n",
       "  </tbody>\n",
       "</table>\n",
       "</div>"
      ],
      "text/plain": [
       "       Count   Total\n",
       "Month               \n",
       "01        34  201.12\n",
       "02        33  187.20\n",
       "03        35  195.10\n",
       "04        33  198.14\n",
       "05        35  193.10\n",
       "06        35  201.10\n",
       "07        35  190.10\n",
       "08        35  198.10\n",
       "09        33  196.20\n",
       "10        35  193.10\n",
       "11        34  186.24\n",
       "12        35  189.10"
      ]
     },
     "execution_count": 5,
     "metadata": {},
     "output_type": "execute_result"
    }
   ],
   "source": [
    "# plot sales per month\n",
    "query = (\"\"\"\n",
    "SELECT strftime('%m', InvoiceDate) AS Month, COUNT(strftime('%m', InvoiceDate)) as Count\n",
    "FROM Invoices\n",
    "GROUP BY strftime('%m', InvoiceDate)\n",
    "\"\"\")\n",
    "query2 = (\"\"\"\n",
    "SELECT strftime('%m', InvoiceDate) AS Month, SUM(Total) as Total\n",
    "FROM Invoices\n",
    "GROUP BY strftime('%m', InvoiceDate)\n",
    "\"\"\")\n",
    "\n",
    "sales_per_month = pd.read_sql(query, conn)\n",
    "total_per_month = pd.read_sql(query2, conn)\n",
    "\n",
    "total_m_sales = sales_per_month.merge(total_per_month, how='left', on='Month')\n",
    "total_m_sales.set_index('Month', inplace=True)\n",
    "total_m_sales"
   ]
  },
  {
   "cell_type": "code",
   "execution_count": 7,
   "id": "desirable-taxation",
   "metadata": {},
   "outputs": [
    {
     "data": {
      "text/plain": [
       "[(170.0, 210.0)]"
      ]
     },
     "execution_count": 7,
     "metadata": {},
     "output_type": "execute_result"
    },
    {
     "data": {
      "image/png": "[encoded data removed]",
      "text/plain": [
       "<Figure size 432x288 with 1 Axes>"
      ]
     },
     "metadata": {
      "needs_background": "light"
     },
     "output_type": "display_data"
    }
   ],
   "source": [
    "ax = sns.lineplot(data=total_m_sales, x='Month', y='Total')\n",
    "ax.set(ylim=(170, 210))"
   ]
  },
  {
   "cell_type": "markdown",
   "id": "global-switzerland",
   "metadata": {},
   "source": [
    "Is there a 'high season' for this store? Christmas, Valentine's, etc?\n",
    "\n",
    "We can see that sales fluctuate month to month, but I wouldn't say there's a high season, because the range min-max is just 15...<br>\n",
    "@@@@@@@@@@@@@@@@@ Remove?"
   ]
  },
  {
   "cell_type": "code",
   "execution_count": 9,
   "id": "disabled-prototype",
   "metadata": {},
   "outputs": [
    {
     "data": {
      "text/html": [
       "<div>\n",
       "<style scoped>\n",
       "    .dataframe tbody tr th:only-of-type {\n",
       "        vertical-align: middle;\n",
       "    }\n",
       "\n",
       "    .dataframe tbody tr th {\n",
       "        vertical-align: top;\n",
       "    }\n",
       "\n",
       "    .dataframe thead th {\n",
       "        text-align: right;\n",
       "    }\n",
       "</style>\n",
       "<table border=\"1\" class=\"dataframe\">\n",
       "  <thead>\n",
       "    <tr style=\"text-align: right;\">\n",
       "      <th></th>\n",
       "      <th>Count</th>\n",
       "      <th>Total</th>\n",
       "    </tr>\n",
       "    <tr>\n",
       "      <th>Year</th>\n",
       "      <th></th>\n",
       "      <th></th>\n",
       "    </tr>\n",
       "  </thead>\n",
       "  <tbody>\n",
       "    <tr>\n",
       "      <th>2009</th>\n",
       "      <td>83</td>\n",
       "      <td>449.46</td>\n",
       "    </tr>\n",
       "    <tr>\n",
       "      <th>2010</th>\n",
       "      <td>83</td>\n",
       "      <td>481.45</td>\n",
       "    </tr>\n",
       "    <tr>\n",
       "      <th>2011</th>\n",
       "      <td>83</td>\n",
       "      <td>469.58</td>\n",
       "    </tr>\n",
       "    <tr>\n",
       "      <th>2012</th>\n",
       "      <td>83</td>\n",
       "      <td>477.53</td>\n",
       "    </tr>\n",
       "    <tr>\n",
       "      <th>2013</th>\n",
       "      <td>80</td>\n",
       "      <td>450.58</td>\n",
       "    </tr>\n",
       "  </tbody>\n",
       "</table>\n",
       "</div>"
      ],
      "text/plain": [
       "      Count   Total\n",
       "Year               \n",
       "2009     83  449.46\n",
       "2010     83  481.45\n",
       "2011     83  469.58\n",
       "2012     83  477.53\n",
       "2013     80  450.58"
      ]
     },
     "execution_count": 9,
     "metadata": {},
     "output_type": "execute_result"
    }
   ],
   "source": [
    "# plot sales per year\n",
    "query = (\"\"\"\n",
    "SELECT strftime('%Y', InvoiceDate) AS Year, COUNT(strftime('%Y', InvoiceDate)) as Count\n",
    "FROM Invoices\n",
    "GROUP BY strftime('%Y', InvoiceDate)\n",
    "\"\"\")\n",
    "query2 = (\"\"\"\n",
    "SELECT strftime('%Y', InvoiceDate) AS Year, SUM(Total) as Total\n",
    "FROM Invoices\n",
    "GROUP BY strftime('%Y', InvoiceDate)\n",
    "\"\"\")\n",
    "\n",
    "sales_per_year = pd.read_sql(query, conn)\n",
    "total_per_year = pd.read_sql(query2, conn)\n",
    "\n",
    "total_y_sales = sales_per_year.merge(total_per_year, how='left', on='Year')\n",
    "total_y_sales.set_index('Year', inplace=True)\n",
    "total_y_sales"
   ]
  },
  {
   "cell_type": "code",
   "execution_count": 10,
   "id": "arbitrary-disco",
   "metadata": {},
   "outputs": [
    {
     "data": {
      "text/plain": [
       "[(400.0, 500.0)]"
      ]
     },
     "execution_count": 10,
     "metadata": {},
     "output_type": "execute_result"
    },
    {
     "data": {
      "image/png": "[encoded data removed]",
      "text/plain": [
       "<Figure size 432x288 with 1 Axes>"
      ]
     },
     "metadata": {
      "needs_background": "light"
     },
     "output_type": "display_data"
    }
   ],
   "source": [
    "ax = sns.lineplot(data=total_y_sales, x='Year', y='Total')\n",
    "ax.set(ylim=(400, 500))"
   ]
  },
  {
   "cell_type": "markdown",
   "id": "municipal-scott",
   "metadata": {},
   "source": [
    "Again, we can see that sales fluctuate year to year, but not that much, because the range min-max is just 35... <br>\n",
    "@@@@@@@@@@@@@@@@@ Remove?"
   ]
  },
  {
   "cell_type": "code",
   "execution_count": 12,
   "id": "quality-interest",
   "metadata": {},
   "outputs": [
    {
     "data": {
      "text/plain": [
       "[(400.0, 500.0)]"
      ]
     },
     "execution_count": 12,
     "metadata": {},
     "output_type": "execute_result"
    },
    {
     "data": {
      "image/png": "[encoded data removed]",
      "text/plain": [
       "<Figure size 432x288 with 2 Axes>"
      ]
     },
     "metadata": {
      "needs_background": "light"
     },
     "output_type": "display_data"
    }
   ],
   "source": [
    "fig, axs = plt.subplots(ncols=2)\n",
    "# sns.regplot(x='value', y='wage', data=df_melt, ax=axs[0])\n",
    "# sns.regplot(x='value', y='wage', data=df_melt, ax=axs[1])\n",
    "# sns.boxplot(x='education',y='wage', data=df_melt, ax=axs[2])\n",
    "\n",
    "ax1 = sns.lineplot(data=total_m_sales, x='Month', y='Total', ax=axs[0])\n",
    "ax1.set(ylim=(170, 210))\n",
    "\n",
    "ax2 = sns.lineplot(data=total_y_sales, x='Year', y='Total', ax=axs[1])\n",
    "ax2.set(ylim=(400, 500))\n",
    "\n",
    "# I'm here!!!!!!!!!!!!!!!!!!\n",
    "# https://www.marsja.se/how-to-change-size-of-seaborn-plot/"
   ]
  },
  {
   "cell_type": "code",
   "execution_count": 48,
   "id": "changing-mistress",
   "metadata": {},
   "outputs": [
    {
     "data": {
      "text/html": [
       "<div>\n",
       "<style scoped>\n",
       "    .dataframe tbody tr th:only-of-type {\n",
       "        vertical-align: middle;\n",
       "    }\n",
       "\n",
       "    .dataframe tbody tr th {\n",
       "        vertical-align: top;\n",
       "    }\n",
       "\n",
       "    .dataframe thead th {\n",
       "        text-align: right;\n",
       "    }\n",
       "</style>\n",
       "<table border=\"1\" class=\"dataframe\">\n",
       "  <thead>\n",
       "    <tr style=\"text-align: right;\">\n",
       "      <th></th>\n",
       "      <th>InvoiceLineId</th>\n",
       "      <th>InvoiceId</th>\n",
       "      <th>TrackId</th>\n",
       "      <th>UnitPrice</th>\n",
       "      <th>Quantity</th>\n",
       "    </tr>\n",
       "  </thead>\n",
       "  <tbody>\n",
       "    <tr>\n",
       "      <th>0</th>\n",
       "      <td>1</td>\n",
       "      <td>1</td>\n",
       "      <td>2</td>\n",
       "      <td>0.99</td>\n",
       "      <td>1</td>\n",
       "    </tr>\n",
       "    <tr>\n",
       "      <th>1</th>\n",
       "      <td>2</td>\n",
       "      <td>1</td>\n",
       "      <td>4</td>\n",
       "      <td>0.99</td>\n",
       "      <td>1</td>\n",
       "    </tr>\n",
       "    <tr>\n",
       "      <th>2</th>\n",
       "      <td>3</td>\n",
       "      <td>2</td>\n",
       "      <td>6</td>\n",
       "      <td>0.99</td>\n",
       "      <td>1</td>\n",
       "    </tr>\n",
       "    <tr>\n",
       "      <th>3</th>\n",
       "      <td>4</td>\n",
       "      <td>2</td>\n",
       "      <td>8</td>\n",
       "      <td>0.99</td>\n",
       "      <td>1</td>\n",
       "    </tr>\n",
       "    <tr>\n",
       "      <th>4</th>\n",
       "      <td>5</td>\n",
       "      <td>2</td>\n",
       "      <td>10</td>\n",
       "      <td>0.99</td>\n",
       "      <td>1</td>\n",
       "    </tr>\n",
       "  </tbody>\n",
       "</table>\n",
       "</div>"
      ],
      "text/plain": [
       "   InvoiceLineId  InvoiceId  TrackId  UnitPrice  Quantity\n",
       "0              1          1        2       0.99         1\n",
       "1              2          1        4       0.99         1\n",
       "2              3          2        6       0.99         1\n",
       "3              4          2        8       0.99         1\n",
       "4              5          2       10       0.99         1"
      ]
     },
     "execution_count": 48,
     "metadata": {},
     "output_type": "execute_result"
    }
   ],
   "source": [
    "# Get most popular:\n",
    "#     Band\n",
    "#     Artist\n",
    "#     Genres\n",
    "#     Media types\n",
    "#     >>> plot\n",
    "\n",
    "query = \"\"\"\n",
    "SELECT *\n",
    "FROM Invoice_items\n",
    "\"\"\"\n",
    "\n",
    "invoice_items = pd.read_sql(query, conn)\n",
    "invoice_items.head()"
   ]
  },
  {
   "cell_type": "code",
   "execution_count": 62,
   "id": "hollywood-touch",
   "metadata": {},
   "outputs": [
    {
     "data": {
      "text/html": [
       "<div>\n",
       "<style scoped>\n",
       "    .dataframe tbody tr th:only-of-type {\n",
       "        vertical-align: middle;\n",
       "    }\n",
       "\n",
       "    .dataframe tbody tr th {\n",
       "        vertical-align: top;\n",
       "    }\n",
       "\n",
       "    .dataframe thead th {\n",
       "        text-align: right;\n",
       "    }\n",
       "</style>\n",
       "<table border=\"1\" class=\"dataframe\">\n",
       "  <thead>\n",
       "    <tr style=\"text-align: right;\">\n",
       "      <th></th>\n",
       "      <th>TrackId</th>\n",
       "      <th>Count</th>\n",
       "    </tr>\n",
       "  </thead>\n",
       "  <tbody>\n",
       "    <tr>\n",
       "      <th>0</th>\n",
       "      <td>2</td>\n",
       "      <td>2</td>\n",
       "    </tr>\n",
       "    <tr>\n",
       "      <th>1</th>\n",
       "      <td>8</td>\n",
       "      <td>2</td>\n",
       "    </tr>\n",
       "    <tr>\n",
       "      <th>2</th>\n",
       "      <td>9</td>\n",
       "      <td>2</td>\n",
       "    </tr>\n",
       "    <tr>\n",
       "      <th>3</th>\n",
       "      <td>20</td>\n",
       "      <td>2</td>\n",
       "    </tr>\n",
       "    <tr>\n",
       "      <th>4</th>\n",
       "      <td>32</td>\n",
       "      <td>2</td>\n",
       "    </tr>\n",
       "    <tr>\n",
       "      <th>5</th>\n",
       "      <td>48</td>\n",
       "      <td>2</td>\n",
       "    </tr>\n",
       "    <tr>\n",
       "      <th>6</th>\n",
       "      <td>66</td>\n",
       "      <td>2</td>\n",
       "    </tr>\n",
       "    <tr>\n",
       "      <th>7</th>\n",
       "      <td>84</td>\n",
       "      <td>2</td>\n",
       "    </tr>\n",
       "    <tr>\n",
       "      <th>8</th>\n",
       "      <td>161</td>\n",
       "      <td>2</td>\n",
       "    </tr>\n",
       "    <tr>\n",
       "      <th>9</th>\n",
       "      <td>162</td>\n",
       "      <td>2</td>\n",
       "    </tr>\n",
       "  </tbody>\n",
       "</table>\n",
       "</div>"
      ],
      "text/plain": [
       "   TrackId  Count\n",
       "0        2      2\n",
       "1        8      2\n",
       "2        9      2\n",
       "3       20      2\n",
       "4       32      2\n",
       "5       48      2\n",
       "6       66      2\n",
       "7       84      2\n",
       "8      161      2\n",
       "9      162      2"
      ]
     },
     "execution_count": 62,
     "metadata": {},
     "output_type": "execute_result"
    }
   ],
   "source": [
    "query = \"\"\"\n",
    "SELECT DISTINCT(TrackId)\n",
    "FROM Invoice_items\n",
    "\"\"\"\n",
    "unique_tracks = pd.read_sql(query, conn)\n",
    "len(unique_tracks) # 1984\n",
    "\n",
    "query2 = \"\"\"\n",
    "SELECT TrackId, COUNT(TrackId) as Count\n",
    "    FROM Invoice_items\n",
    "    GROUP BY TrackId\n",
    "    ORDER BY Count DESC\n",
    "\"\"\"\n",
    "\n",
    "popular_tracks = pd.read_sql(query2, conn)\n",
    "popular_tracks.head(10)"
   ]
  },
  {
   "cell_type": "markdown",
   "id": "chronic-convenience",
   "metadata": {},
   "source": [
    "If the top 10 most sold tracks sold just 2, sales is not a good thing to explore here! ,:)"
   ]
  },
  {
   "cell_type": "code",
   "execution_count": null,
   "id": "filled-continuity",
   "metadata": {},
   "outputs": [],
   "source": [
    "# Find the names of those top ten tracks"
   ]
  },
  {
   "cell_type": "code",
   "execution_count": null,
   "id": "tracked-entity",
   "metadata": {},
   "outputs": [],
   "source": []
  },
  {
   "cell_type": "code",
   "execution_count": null,
   "id": "starting-compound",
   "metadata": {},
   "outputs": [],
   "source": []
  },
  {
   "cell_type": "code",
   "execution_count": null,
   "id": "circular-equivalent",
   "metadata": {},
   "outputs": [],
   "source": []
  },
  {
   "cell_type": "code",
   "execution_count": null,
   "id": "dramatic-velvet",
   "metadata": {},
   "outputs": [],
   "source": []
  },
  {
   "cell_type": "markdown",
   "id": "protecting-complexity",
   "metadata": {},
   "source": [
    "Every SQLite database has an SQLITE_MASTER table that defines the schema for the database:"
   ]
  },
  {
   "cell_type": "code",
   "execution_count": 3,
   "id": "suburban-arbor",
   "metadata": {},
   "outputs": [
    {
     "data": {
      "text/plain": [
       "[('albums',),\n",
       " ('sqlite_sequence',),\n",
       " ('artists',),\n",
       " ('customers',),\n",
       " ('employees',),\n",
       " ('genres',),\n",
       " ('invoices',),\n",
       " ('invoice_items',),\n",
       " ('media_types',),\n",
       " ('playlists',),\n",
       " ('playlist_track',),\n",
       " ('tracks',),\n",
       " ('sqlite_stat1',)]"
      ]
     },
     "execution_count": 3,
     "metadata": {},
     "output_type": "execute_result"
    }
   ],
   "source": [
    "cur.execute(\"SELECT name FROM sqlite_master WHERE type = 'table'\").fetchall()"
   ]
  },
  {
   "cell_type": "markdown",
   "id": "empirical-continent",
   "metadata": {},
   "source": [
    "`fetchall()` returns a list of tuples, and in this case each tuple has a single element, which is why they each have a trailing comma.\n",
    "\n",
    "Rather than fetching a list all at once into memory, we can access the matching entries one by one from the cursor:"
   ]
  },
  {
   "cell_type": "code",
   "execution_count": 4,
   "id": "detected-president",
   "metadata": {},
   "outputs": [
    {
     "name": "stdout",
     "output_type": "stream",
     "text": [
      "('albums',)\n",
      "('sqlite_sequence',)\n",
      "('artists',)\n",
      "('customers',)\n",
      "('employees',)\n",
      "('genres',)\n",
      "('invoices',)\n",
      "('invoice_items',)\n",
      "('media_types',)\n",
      "('playlists',)\n",
      "('playlist_track',)\n",
      "('tracks',)\n",
      "('sqlite_stat1',)\n"
     ]
    }
   ],
   "source": [
    "for row in cur.execute(\"\"\"\n",
    "                        SELECT name\n",
    "                        FROM sqlite_master\n",
    "                        WHERE type = 'table'\n",
    "                        \"\"\"):\n",
    "    print(row)"
   ]
  },
  {
   "cell_type": "markdown",
   "id": "qualified-devon",
   "metadata": {},
   "source": [
    "To look at the columns in a particular table, and inspect their properties, we can use a `PRAGMA` statement:"
   ]
  },
  {
   "cell_type": "code",
   "execution_count": 5,
   "id": "imposed-moldova",
   "metadata": {},
   "outputs": [
    {
     "name": "stdout",
     "output_type": "stream",
     "text": [
      "(0, 'AlbumId', 'INTEGER', 1, None, 1)\n",
      "(1, 'Title', 'NVARCHAR(160)', 1, None, 0)\n",
      "(2, 'ArtistId', 'INTEGER', 1, None, 0)\n"
     ]
    }
   ],
   "source": [
    "for row in cur.execute(\"PRAGMA table_info(Albums)\"):\n",
    "    print(row)"
   ]
  },
  {
   "cell_type": "markdown",
   "id": "pacific-christianity",
   "metadata": {},
   "source": [
    "The `description` attribute of the `cursor` can be used to get just the names of the columns:"
   ]
  },
  {
   "cell_type": "code",
   "execution_count": 6,
   "id": "transsexual-retro",
   "metadata": {},
   "outputs": [
    {
     "data": {
      "text/plain": [
       "(('AlbumId', None, None, None, None, None, None),\n",
       " ('Title', None, None, None, None, None, None),\n",
       " ('ArtistId', None, None, None, None, None, None))"
      ]
     },
     "execution_count": 6,
     "metadata": {},
     "output_type": "execute_result"
    }
   ],
   "source": [
    "cur.execute('SELECT * FROM Albums').description"
   ]
  },
  {
   "cell_type": "markdown",
   "id": "dental-clone",
   "metadata": {},
   "source": [
    "All the Nones are because the description attribute only has one piece of information per column, but has to be a 7-tuple to comply with the Python DB API (Python Docs).\n",
    "\n",
    "This attribute can also be used to get the column names of the output of `PRAGMA table_info(Albums)`:"
   ]
  },
  {
   "cell_type": "code",
   "execution_count": 7,
   "id": "comparative-receiver",
   "metadata": {},
   "outputs": [
    {
     "data": {
      "text/html": [
       "<div>\n",
       "<style scoped>\n",
       "    .dataframe tbody tr th:only-of-type {\n",
       "        vertical-align: middle;\n",
       "    }\n",
       "\n",
       "    .dataframe tbody tr th {\n",
       "        vertical-align: top;\n",
       "    }\n",
       "\n",
       "    .dataframe thead th {\n",
       "        text-align: right;\n",
       "    }\n",
       "</style>\n",
       "<table border=\"1\" class=\"dataframe\">\n",
       "  <thead>\n",
       "    <tr style=\"text-align: right;\">\n",
       "      <th></th>\n",
       "      <th>AlbumId</th>\n",
       "      <th>Title</th>\n",
       "      <th>ArtistId</th>\n",
       "    </tr>\n",
       "  </thead>\n",
       "  <tbody>\n",
       "    <tr>\n",
       "      <th>0</th>\n",
       "      <td>1</td>\n",
       "      <td>For Those About To Rock We Salute You</td>\n",
       "      <td>1</td>\n",
       "    </tr>\n",
       "    <tr>\n",
       "      <th>1</th>\n",
       "      <td>2</td>\n",
       "      <td>Balls to the Wall</td>\n",
       "      <td>2</td>\n",
       "    </tr>\n",
       "    <tr>\n",
       "      <th>2</th>\n",
       "      <td>3</td>\n",
       "      <td>Restless and Wild</td>\n",
       "      <td>2</td>\n",
       "    </tr>\n",
       "    <tr>\n",
       "      <th>3</th>\n",
       "      <td>4</td>\n",
       "      <td>Let There Be Rock</td>\n",
       "      <td>1</td>\n",
       "    </tr>\n",
       "    <tr>\n",
       "      <th>4</th>\n",
       "      <td>5</td>\n",
       "      <td>Big Ones</td>\n",
       "      <td>3</td>\n",
       "    </tr>\n",
       "  </tbody>\n",
       "</table>\n",
       "</div>"
      ],
      "text/plain": [
       "   AlbumId                                  Title  ArtistId\n",
       "0        1  For Those About To Rock We Salute You         1\n",
       "1        2                      Balls to the Wall         2\n",
       "2        3                      Restless and Wild         2\n",
       "3        4                      Let There Be Rock         1\n",
       "4        5                               Big Ones         3"
      ]
     },
     "execution_count": 7,
     "metadata": {},
     "output_type": "execute_result"
    }
   ],
   "source": [
    "df = pd.read_sql('SELECT * FROM Albums', conn)\n",
    "df\n",
    "df.head()"
   ]
  },
  {
   "cell_type": "code",
   "execution_count": null,
   "id": "sporting-skiing",
   "metadata": {},
   "outputs": [],
   "source": []
  },
  {
   "cell_type": "code",
   "execution_count": null,
   "id": "going-kernel",
   "metadata": {},
   "outputs": [],
   "source": []
  },
  {
   "cell_type": "code",
   "execution_count": null,
   "id": "compressed-popularity",
   "metadata": {},
   "outputs": [],
   "source": []
  },
  {
   "cell_type": "code",
   "execution_count": null,
   "id": "random-narrow",
   "metadata": {},
   "outputs": [],
   "source": []
  },
  {
   "cell_type": "code",
   "execution_count": null,
   "id": "saved-destruction",
   "metadata": {},
   "outputs": [],
   "source": []
  },
  {
   "cell_type": "markdown",
   "id": "brave-corporation",
   "metadata": {},
   "source": [
    "https://towardsdatascience.com/sql-in-data-science-af0b4492bcd"
   ]
  },
  {
   "cell_type": "code",
   "execution_count": 8,
   "id": "centered-listening",
   "metadata": {},
   "outputs": [
    {
     "name": "stdout",
     "output_type": "stream",
     "text": [
      "[('albums',), ('sqlite_sequence',), ('artists',), ('customers',), ('employees',), ('genres',), ('invoices',), ('invoice_items',), ('media_types',), ('playlists',), ('playlist_track',), ('tracks',), ('sqlite_stat1',)]\n"
     ]
    }
   ],
   "source": [
    "cur.execute(\"SELECT name FROM sqlite_master WHERE type='table';\")\n",
    "print(cur.fetchall())"
   ]
  },
  {
   "cell_type": "code",
   "execution_count": 29,
   "id": "sapphire-cabin",
   "metadata": {},
   "outputs": [
    {
     "data": {
      "text/plain": [
       "(('cid', None, None, None, None, None, None),\n",
       " ('name', None, None, None, None, None, None),\n",
       " ('type', None, None, None, None, None, None),\n",
       " ('notnull', None, None, None, None, None, None),\n",
       " ('dflt_value', None, None, None, None, None, None),\n",
       " ('pk', None, None, None, None, None, None))"
      ]
     },
     "execution_count": 29,
     "metadata": {},
     "output_type": "execute_result"
    }
   ],
   "source": [
    "# cursor.description >>> https://www.psycopg.org/docs/cursor.html\n",
    "\n",
    "# Read-only attribute describing the result of a query. It is a sequence of Column instances, each one describing one result column in order.\n",
    "# The attribute is None for operations that do not return rows or if the cursor has not had an operation invoked via the execute*() methods yet.\n",
    "\n",
    "# For compatibility with the DB-API, every object can be unpacked as a 7-items sequence: the attributes retuned this way are the following. \n",
    "# For further details and other attributes available check the Column documentation.\n",
    "\n",
    "# 1. name\n",
    "# 2. type_code\n",
    "# 3. display_size\n",
    "# 4. internal_size\n",
    "# 5. precision\n",
    "# 6. scale\n",
    "# 7. null_ok\n",
    "\n",
    "\n",
    "cur.description"
   ]
  },
  {
   "cell_type": "code",
   "execution_count": 34,
   "id": "muslim-uganda",
   "metadata": {},
   "outputs": [
    {
     "name": "stdout",
     "output_type": "stream",
     "text": [
      "(0, 'EmployeeId', 'INTEGER', 1, None, 1)\n",
      "(1, 'LastName', 'NVARCHAR(20)', 1, None, 0)\n",
      "(2, 'FirstName', 'NVARCHAR(20)', 1, None, 0)\n",
      "(3, 'Title', 'NVARCHAR(30)', 0, None, 0)\n",
      "(4, 'ReportsTo', 'INTEGER', 0, None, 0)\n",
      "(5, 'BirthDate', 'DATETIME', 0, None, 0)\n",
      "(6, 'HireDate', 'DATETIME', 0, None, 0)\n",
      "(7, 'Address', 'NVARCHAR(70)', 0, None, 0)\n",
      "(8, 'City', 'NVARCHAR(40)', 0, None, 0)\n",
      "(9, 'State', 'NVARCHAR(40)', 0, None, 0)\n",
      "(10, 'Country', 'NVARCHAR(40)', 0, None, 0)\n",
      "(11, 'PostalCode', 'NVARCHAR(10)', 0, None, 0)\n",
      "(12, 'Phone', 'NVARCHAR(24)', 0, None, 0)\n",
      "(13, 'Fax', 'NVARCHAR(24)', 0, None, 0)\n",
      "(14, 'Email', 'NVARCHAR(60)', 0, None, 0)\n"
     ]
    }
   ],
   "source": [
    "# even more detailed information on each of the tables >>> PRAGMA command\n",
    "cur.execute(\"PRAGMA table_info(Employees)\")\n",
    "info = cur.fetchall()\n",
    "print(*info, sep='\\n')  # The output of this query statement returns the Employee table's \n",
    "                          # Column ID, Column Name, Column Type, Not Null Values, Default Value, and Primary Key."
   ]
  },
  {
   "cell_type": "code",
   "execution_count": 35,
   "id": "empirical-broadcasting",
   "metadata": {},
   "outputs": [
    {
     "name": "stdout",
     "output_type": "stream",
     "text": [
      "(0, 'InvoiceId', 'INTEGER', 1, None, 1)\n",
      "(1, 'CustomerId', 'INTEGER', 1, None, 0)\n",
      "(2, 'InvoiceDate', 'DATETIME', 1, None, 0)\n",
      "(3, 'BillingAddress', 'NVARCHAR(70)', 0, None, 0)\n",
      "(4, 'BillingCity', 'NVARCHAR(40)', 0, None, 0)\n",
      "(5, 'BillingState', 'NVARCHAR(40)', 0, None, 0)\n",
      "(6, 'BillingCountry', 'NVARCHAR(40)', 0, None, 0)\n",
      "(7, 'BillingPostalCode', 'NVARCHAR(10)', 0, None, 0)\n",
      "(8, 'Total', 'NUMERIC(10,2)', 1, None, 0)\n"
     ]
    }
   ],
   "source": [
    "cur.execute(\"PRAGMA table_info(Invoices)\")\n",
    "info = cur.fetchall()\n",
    "print(*info, sep='\\n')"
   ]
  },
  {
   "cell_type": "code",
   "execution_count": 32,
   "id": "vulnerable-lambda",
   "metadata": {},
   "outputs": [
    {
     "data": {
      "text/html": [
       "<div>\n",
       "<style scoped>\n",
       "    .dataframe tbody tr th:only-of-type {\n",
       "        vertical-align: middle;\n",
       "    }\n",
       "\n",
       "    .dataframe tbody tr th {\n",
       "        vertical-align: top;\n",
       "    }\n",
       "\n",
       "    .dataframe thead th {\n",
       "        text-align: right;\n",
       "    }\n",
       "</style>\n",
       "<table border=\"1\" class=\"dataframe\">\n",
       "  <thead>\n",
       "    <tr style=\"text-align: right;\">\n",
       "      <th></th>\n",
       "      <th>FirstName</th>\n",
       "      <th>LastName</th>\n",
       "      <th>CustomerId</th>\n",
       "      <th>Country</th>\n",
       "    </tr>\n",
       "  </thead>\n",
       "  <tbody>\n",
       "    <tr>\n",
       "      <th>0</th>\n",
       "      <td>Luís</td>\n",
       "      <td>Gonçalves</td>\n",
       "      <td>1</td>\n",
       "      <td>Brazil</td>\n",
       "    </tr>\n",
       "    <tr>\n",
       "      <th>1</th>\n",
       "      <td>Leonie</td>\n",
       "      <td>Köhler</td>\n",
       "      <td>2</td>\n",
       "      <td>Germany</td>\n",
       "    </tr>\n",
       "    <tr>\n",
       "      <th>2</th>\n",
       "      <td>François</td>\n",
       "      <td>Tremblay</td>\n",
       "      <td>3</td>\n",
       "      <td>Canada</td>\n",
       "    </tr>\n",
       "    <tr>\n",
       "      <th>3</th>\n",
       "      <td>Bjørn</td>\n",
       "      <td>Hansen</td>\n",
       "      <td>4</td>\n",
       "      <td>Norway</td>\n",
       "    </tr>\n",
       "    <tr>\n",
       "      <th>4</th>\n",
       "      <td>František</td>\n",
       "      <td>Wichterlová</td>\n",
       "      <td>5</td>\n",
       "      <td>Czech Republic</td>\n",
       "    </tr>\n",
       "    <tr>\n",
       "      <th>5</th>\n",
       "      <td>Helena</td>\n",
       "      <td>Holý</td>\n",
       "      <td>6</td>\n",
       "      <td>Czech Republic</td>\n",
       "    </tr>\n",
       "    <tr>\n",
       "      <th>6</th>\n",
       "      <td>Astrid</td>\n",
       "      <td>Gruber</td>\n",
       "      <td>7</td>\n",
       "      <td>Austria</td>\n",
       "    </tr>\n",
       "    <tr>\n",
       "      <th>7</th>\n",
       "      <td>Daan</td>\n",
       "      <td>Peeters</td>\n",
       "      <td>8</td>\n",
       "      <td>Belgium</td>\n",
       "    </tr>\n",
       "    <tr>\n",
       "      <th>8</th>\n",
       "      <td>Kara</td>\n",
       "      <td>Nielsen</td>\n",
       "      <td>9</td>\n",
       "      <td>Denmark</td>\n",
       "    </tr>\n",
       "    <tr>\n",
       "      <th>9</th>\n",
       "      <td>Eduardo</td>\n",
       "      <td>Martins</td>\n",
       "      <td>10</td>\n",
       "      <td>Brazil</td>\n",
       "    </tr>\n",
       "  </tbody>\n",
       "</table>\n",
       "</div>"
      ],
      "text/plain": [
       "   FirstName     LastName  CustomerId         Country\n",
       "0       Luís    Gonçalves           1          Brazil\n",
       "1     Leonie       Köhler           2         Germany\n",
       "2   François     Tremblay           3          Canada\n",
       "3      Bjørn       Hansen           4          Norway\n",
       "4  František  Wichterlová           5  Czech Republic\n",
       "5     Helena         Holý           6  Czech Republic\n",
       "6     Astrid       Gruber           7         Austria\n",
       "7       Daan      Peeters           8         Belgium\n",
       "8       Kara      Nielsen           9         Denmark\n",
       "9    Eduardo      Martins          10          Brazil"
      ]
     },
     "execution_count": 32,
     "metadata": {},
     "output_type": "execute_result"
    }
   ],
   "source": [
    "cur.execute(\"\"\"\n",
    "    SELECT FirstName, LastName, CustomerId, Country\n",
    "    FROM Customers\n",
    "    WHERE Country != 'USA'\n",
    "\"\"\")\n",
    "df = pd.DataFrame(cur.fetchall())\n",
    "df.columns = [x[0] for x in cur.description]\n",
    "df.head(10)"
   ]
  },
  {
   "cell_type": "code",
   "execution_count": 21,
   "id": "august-living",
   "metadata": {},
   "outputs": [
    {
     "name": "stdout",
     "output_type": "stream",
     "text": [
      "('Breathe', 212, 2613, 299781)\n",
      "('Queixa', 23, 524, 299676)\n",
      "('Getaway Car', 10, 97, 299598)\n",
      "('Winterlong', 201, 2485, 299389)\n",
      "('Cherub Rock', 202, 2491, 299389)\n",
      "('Sonata for Solo Violin: IV: Presto', 325, 3480, 299350)\n",
      "('Linha Do Equador', 21, 218, 299337)\n",
      "('Who Are You (Single Edit Version)', 221, 2749, 299232)\n",
      "('Garden', 181, 2201, 299154)\n",
      "('The Spirit Of Radio', 196, 2406, 299154)\n"
     ]
    }
   ],
   "source": [
    "cur.execute(\"\"\"\n",
    "    SELECT Name, AlbumId, TrackId, Milliseconds\n",
    "    FROM Tracks\n",
    "    WHERE Milliseconds BETWEEN 205205 AND 300000\n",
    "    ORDER BY Milliseconds Desc\n",
    "    LIMIT 10\n",
    "\"\"\")\n",
    "info = cur.fetchall()\n",
    "print(*info, sep = \"\\n\")"
   ]
  },
  {
   "cell_type": "code",
   "execution_count": 33,
   "id": "gothic-princeton",
   "metadata": {},
   "outputs": [
    {
     "name": "stdout",
     "output_type": "stream",
     "text": [
      "('USA', 523.0600000000003)\n",
      "('Canada', 303.9599999999999)\n",
      "('France', 195.09999999999994)\n",
      "('Brazil', 190.09999999999997)\n",
      "('Germany', 156.48)\n",
      "('United Kingdom', 112.85999999999999)\n",
      "('Czech Republic', 90.24000000000001)\n",
      "('Portugal', 77.23999999999998)\n",
      "('India', 75.25999999999999)\n",
      "('Chile', 46.62)\n",
      "('Ireland', 45.62)\n",
      "('Hungary', 45.62)\n",
      "('Austria', 42.62)\n",
      "('Finland', 41.620000000000005)\n",
      "('Netherlands', 40.62)\n",
      "('Norway', 39.62)\n",
      "('Sweden', 38.620000000000005)\n",
      "('Poland', 37.620000000000005)\n",
      "('Italy', 37.620000000000005)\n",
      "('Denmark', 37.620000000000005)\n",
      "('Australia', 37.620000000000005)\n",
      "('Argentina', 37.620000000000005)\n",
      "('Spain', 37.62)\n",
      "('Belgium', 37.62)\n"
     ]
    }
   ],
   "source": [
    "# Aggregate Functions\n",
    "# These SQL functions can be really helpful when performing statistical analysis. \n",
    "# We can get the average values, minimum and maximum values, and the sum of values in a column. \n",
    "# The COUNT function returns the number of records that meet a certain condition.\n",
    "\n",
    "# The GROUP BY function will return your results grouped together by a set column. \n",
    "# Examples of this would be grouping results by gender, breed, or nationality.\n",
    "\n",
    "# Below is an example query for total sales per country with the results being grouped by each country.\n",
    "# I am also aliasing the sum of totals as ‘TotalSales’ in order to group the results by the total sales for each country.\n",
    "\n",
    "cur.execute('''\n",
    "    SELECT i.BillingCountry, sum(Total) as 'TotalSales'\n",
    "    FROM Invoices AS i\n",
    "    GROUP BY BillingCountry\n",
    "    ORDER BY TotalSales DESC\n",
    "    '''\n",
    ")\n",
    "            \n",
    "info = cur.fetchall()\n",
    "print(*info, sep = \"\\n\")"
   ]
  },
  {
   "cell_type": "code",
   "execution_count": null,
   "id": "fewer-valentine",
   "metadata": {},
   "outputs": [],
   "source": []
  },
  {
   "cell_type": "code",
   "execution_count": null,
   "id": "effective-yeast",
   "metadata": {},
   "outputs": [],
   "source": []
  },
  {
   "cell_type": "code",
   "execution_count": null,
   "id": "imposed-initial",
   "metadata": {},
   "outputs": [],
   "source": []
  }
 ],
 "metadata": {
  "kernelspec": {
   "display_name": "Python 3",
   "language": "python",
   "name": "python3"
  },
  "language_info": {
   "codemirror_mode": {
    "name": "ipython",
    "version": 3
   },
   "file_extension": ".py",
   "mimetype": "text/x-python",
   "name": "python",
   "nbconvert_exporter": "python",
   "pygments_lexer": "ipython3",
   "version": "3.7.6"
  }
 },
 "nbformat": 4,
 "nbformat_minor": 5
}

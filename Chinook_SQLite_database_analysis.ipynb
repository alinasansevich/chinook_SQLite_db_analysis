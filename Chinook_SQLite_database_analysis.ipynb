{
 "cells": [
  {
   "cell_type": "markdown",
   "id": "amateur-morgan",
   "metadata": {},
   "source": [
    "https://www.sqlitetutorial.net/sqlite-sample-database/\n",
    "https://www.chrisnicoll.net/2020/02/exploring-an-sqlite-database-from-jupyter-notebook/\n"
   ]
  },
  {
   "cell_type": "code",
   "execution_count": 1,
   "id": "golden-accessory",
   "metadata": {},
   "outputs": [],
   "source": [
    "import sqlite3\n",
    "import pandas as pd"
   ]
  },
  {
   "cell_type": "code",
   "execution_count": 2,
   "id": "domestic-glasgow",
   "metadata": {},
   "outputs": [],
   "source": [
    "conn = sqlite3.connect('chinook.db')\n",
    "cur = conn.cursor()"
   ]
  },
  {
   "cell_type": "code",
   "execution_count": 3,
   "id": "interested-spirituality",
   "metadata": {},
   "outputs": [
    {
     "data": {
      "text/plain": [
       "[('albums',),\n",
       " ('sqlite_sequence',),\n",
       " ('artists',),\n",
       " ('customers',),\n",
       " ('employees',),\n",
       " ('genres',),\n",
       " ('invoices',),\n",
       " ('invoice_items',),\n",
       " ('media_types',),\n",
       " ('playlists',),\n",
       " ('playlist_track',),\n",
       " ('tracks',),\n",
       " ('sqlite_stat1',)]"
      ]
     },
     "execution_count": 3,
     "metadata": {},
     "output_type": "execute_result"
    }
   ],
   "source": [
    "cur.execute(\"SELECT name FROM sqlite_master WHERE type = 'table'\").fetchall()"
   ]
  },
  {
   "cell_type": "code",
   "execution_count": 6,
   "id": "executive-accommodation",
   "metadata": {},
   "outputs": [
    {
     "name": "stdout",
     "output_type": "stream",
     "text": [
      "('albums',)\n",
      "('sqlite_sequence',)\n",
      "('artists',)\n",
      "('customers',)\n",
      "('employees',)\n",
      "('genres',)\n",
      "('invoices',)\n",
      "('invoice_items',)\n",
      "('media_types',)\n",
      "('playlists',)\n",
      "('playlist_track',)\n",
      "('tracks',)\n",
      "('sqlite_stat1',)\n"
     ]
    }
   ],
   "source": [
    "for row in cur.execute(\"\"\"\n",
    "                        SELECT name\n",
    "                        FROM sqlite_master\n",
    "                        WHERE type = 'table'\n",
    "                        \"\"\"):\n",
    "    print(row)"
   ]
  },
  {
   "cell_type": "code",
   "execution_count": 8,
   "id": "driving-batman",
   "metadata": {},
   "outputs": [
    {
     "data": {
      "text/plain": [
       "(('AlbumId', None, None, None, None, None, None),\n",
       " ('Title', None, None, None, None, None, None),\n",
       " ('ArtistId', None, None, None, None, None, None))"
      ]
     },
     "execution_count": 8,
     "metadata": {},
     "output_type": "execute_result"
    }
   ],
   "source": [
    "cur.execute('SELECT * FROM Albums').description"
   ]
  },
  {
   "cell_type": "code",
   "execution_count": null,
   "id": "genuine-vacuum",
   "metadata": {},
   "outputs": [],
   "source": []
  },
  {
   "cell_type": "code",
   "execution_count": null,
   "id": "assumed-eleven",
   "metadata": {},
   "outputs": [],
   "source": []
  },
  {
   "cell_type": "code",
   "execution_count": null,
   "id": "innocent-language",
   "metadata": {},
   "outputs": [],
   "source": []
  },
  {
   "cell_type": "code",
   "execution_count": null,
   "id": "instrumental-october",
   "metadata": {},
   "outputs": [],
   "source": []
  },
  {
   "cell_type": "code",
   "execution_count": null,
   "id": "clean-milton",
   "metadata": {},
   "outputs": [],
   "source": []
  },
  {
   "cell_type": "code",
   "execution_count": null,
   "id": "associate-kruger",
   "metadata": {},
   "outputs": [],
   "source": []
  },
  {
   "cell_type": "code",
   "execution_count": null,
   "id": "cardiac-commitment",
   "metadata": {},
   "outputs": [],
   "source": [
    "https://towardsdatascience.com/sql-in-data-science-af0b4492bcd\n",
    "\n",
    "cur.execute(\"SELECT name FROM sqlite_master WHERE type='table';\")\n",
    "print(cur.fetchall())#Output:\n",
    "[('Album',), ('Artist',), ('Customer',), ('Employee',), ('Genre',), ('Invoice',), ('InvoiceLine',), ('MediaType',), ('Playlist',), ('PlaylistTrack',), ('Track',)]The output of this query statement returned all of the tables in the database.\n",
    "\n",
    "# even more detailed information on each of the tables >>> PRAGMA command\n",
    "cur.execute(\"PRAGMA table_info(Employee)\")\n",
    "info = cur.fetchall()\n",
    "print(*info, sep = \"\\n\")\n",
    "#Output:\n",
    "# (0, 'EmployeeId', 'INTEGER', 1, None, 1)\n",
    "# (1, 'LastName', 'NVARCHAR(20)', 1, None, 0)\n",
    "# (2, 'FirstName', 'NVARCHAR(20)', 1, None, 0)\n",
    "# (3, 'Title', 'NVARCHAR(30)', 0, None, 0)\n",
    "# (4, 'ReportsTo', 'INTEGER', 0, None, 0)\n",
    "# (5, 'BirthDate', 'DATETIME', 0, None, 0)\n",
    "# (6, 'HireDate', 'DATETIME', 0, None, 0)\n",
    "# (7, 'Address', 'NVARCHAR(70)', 0, None, 0)\n",
    "# (8, 'City', 'NVARCHAR(40)', 0, None, 0)\n",
    "# (9, 'State', 'NVARCHAR(40)', 0, None, 0)\n",
    "# (10, 'Country', 'NVARCHAR(40)', 0, None, 0)\n",
    "# (11, 'PostalCode', 'NVARCHAR(10)', 0, None, 0)\n",
    "# (12, 'Phone', 'NVARCHAR(24)', 0, None, 0)\n",
    "# (13, 'Fax', 'NVARCHAR(24)', 0, None, 0)\n",
    "# (14, 'Email', 'NVARCHAR(60)', 0, None, 0)\n",
    "# The output of this query statement returned the Employee table's Column ID, Column Name, Column Type, Not Null Values, Default Value, and Primary Key.\n",
    "\n",
    "cursor.description\n",
    "# 1. name\n",
    "# 2. type_code\n",
    "# 3. display_size\n",
    "# 4. internal_size\n",
    "# 5. precision\n",
    "# 6. scale\n",
    "# 7. null_ok\n",
    "\n",
    "#Importing Pandas\n",
    "import pandas as pdcur.execute(\"\"\"\n",
    "    SELECT FirstName, LastName, CustomerId, Country\n",
    "    FROM customer\n",
    "    WHERE country != 'USA'\n",
    "\"\"\")\n",
    "df = pd.DataFrame(cur.fetchall())\n",
    "df.columns = [x[0] for x in cur.description]\n",
    "df.head(10)\n",
    "#Output:\n",
    "# df\n",
    "\n",
    "cur.execute(\"\"\"\n",
    "    SELECT Name, AlbumId, TrackId, Milliseconds\n",
    "    FROM track\n",
    "    WHERE Milliseconds BETWEEN 205205 AND 300000\n",
    "    ORDER BY Milliseconds Desc\n",
    "    LIMIT 10\n",
    "\"\"\")\n",
    "info = cur.fetchall()\n",
    "print(*info, sep = \"\\n\")\n",
    "#Output:\n",
    "# ('Breathe', 212, 2613, 299781)\n",
    "# ('Queixa', 23, 524, 299676)\n",
    "# ('Getaway Car', 10, 97, 299598)\n",
    "# ('Winterlong', 201, 2485, 299389)\n",
    "# ('Cherub Rock', 202, 2491, 299389)\n",
    "# ('Sonata for Solo Violin: IV: Presto', 325, 3480, 299350)\n",
    "# ('Linha Do Equador', 21, 218, 299337)\n",
    "# ('Who Are You (Single Edit Version)', 221, 2749, 299232)\n",
    "# ('Garden', 181, 2201, 299154)\n",
    "# ('The Spirit Of Radio', 196, 2406, 299154)\n",
    "\n",
    "# Aggregate Functions\n",
    "\n",
    "# These SQL functions can be really helpful when performing statistical analysis. We can get the average values, minimum and maximum values, and the sum of values in a column. The COUNT function returns the number of records that meet a certain condition.\n",
    "\n",
    "# The GROUP BY function will return your results grouped together by a set column. Examples of this would be grouping results by gender, breed, or nationality.\n",
    "\n",
    "# Below is an example query for total sales per country with the results being grouped by each country. I am also aliasing the sum of totals as ‘TotalSales’ in order to group the results by the total sales for each country.\n",
    "\n",
    "cur.execute('''\n",
    "    SELECT i.billingcountry, sum(total) as 'TotalSales'\n",
    "    FROM invoice AS i\n",
    "    GROUP BY billingcountry\n",
    "    ORDER BY totalsales DESC\n",
    "    '''\n",
    ")\n",
    "            \n",
    "info = cur.fetchall()\n",
    "print(*info, sep = \"\\n\")\n",
    "#Output:\n",
    "# ('USA', 523.0600000000003)\n",
    "# ('Canada', 303.9599999999999)\n",
    "# ('France', 195.09999999999994)\n",
    "# ('Brazil', 190.09999999999997)\n",
    "# ('Germany', 156.48)\n",
    "# ('United Kingdom', 112.85999999999999)\n",
    "# ('Czech Republic', 90.24000000000001)\n",
    "# ('Portugal', 77.23999999999998)\n",
    "# ('India', 75.25999999999999)\n",
    "# ('Chile', 46.62)\n",
    "# ('Ireland', 45.62)\n",
    "# ('Hungary', 45.62)\n",
    "# ('Austria', 42.62)\n",
    "# ('Finland', 41.620000000000005)\n",
    "# ('Netherlands', 40.62)\n",
    "# ('Norway', 39.62)\n",
    "# ('Sweden', 38.620000000000005)\n",
    "# ('Poland', 37.620000000000005)\n",
    "# ('Italy', 37.620000000000005)\n",
    "# ('Denmark', 37.620000000000005)\n",
    "# ('Australia', 37.620000000000005)\n",
    "# ('Argentina', 37.620000000000005)\n",
    "# ('Spain', 37.62)\n",
    "# ('Belgium', 37.62)"
   ]
  }
 ],
 "metadata": {
  "kernelspec": {
   "display_name": "Python 3",
   "language": "python",
   "name": "python3"
  },
  "language_info": {
   "codemirror_mode": {
    "name": "ipython",
    "version": 3
   },
   "file_extension": ".py",
   "mimetype": "text/x-python",
   "name": "python",
   "nbconvert_exporter": "python",
   "pygments_lexer": "ipython3",
   "version": "3.7.6"
  }
 },
 "nbformat": 4,
 "nbformat_minor": 5
}

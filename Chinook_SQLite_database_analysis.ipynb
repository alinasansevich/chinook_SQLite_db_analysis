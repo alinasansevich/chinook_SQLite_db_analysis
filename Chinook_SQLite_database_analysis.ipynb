{
 "cells": [
  {
   "cell_type": "markdown",
   "id": "cellular-native",
   "metadata": {},
   "source": [
    "# Add a title here :P\n",
    "\n",
    "https://www.sqlitetutorial.net/sqlite-sample-database/\n",
    "\n",
    "\n",
    "https://www.chrisnicoll.net/2020/02/exploring-an-sqlite-database-from-jupyter-notebook/\n",
    "\n",
    "\n",
    "https://www.sqlite.org/pragma.html"
   ]
  },
  {
   "cell_type": "code",
   "execution_count": 1,
   "id": "cooked-glance",
   "metadata": {},
   "outputs": [],
   "source": [
    "import sqlite3\n",
    "import pandas as pd\n",
    "import seaborn as sns"
   ]
  },
  {
   "cell_type": "code",
   "execution_count": 2,
   "id": "fiscal-starter",
   "metadata": {},
   "outputs": [],
   "source": [
    "conn = sqlite3.connect('chinook.db')\n",
    "cur = conn.cursor()"
   ]
  },
  {
   "cell_type": "markdown",
   "id": "micro-intent",
   "metadata": {},
   "source": [
    "Every SQLite database has an SQLITE_MASTER table that defines the schema for the database:"
   ]
  },
  {
   "cell_type": "code",
   "execution_count": 3,
   "id": "floating-runner",
   "metadata": {},
   "outputs": [
    {
     "data": {
      "text/plain": [
       "[('albums',),\n",
       " ('sqlite_sequence',),\n",
       " ('artists',),\n",
       " ('customers',),\n",
       " ('employees',),\n",
       " ('genres',),\n",
       " ('invoices',),\n",
       " ('invoice_items',),\n",
       " ('media_types',),\n",
       " ('playlists',),\n",
       " ('playlist_track',),\n",
       " ('tracks',),\n",
       " ('sqlite_stat1',)]"
      ]
     },
     "execution_count": 3,
     "metadata": {},
     "output_type": "execute_result"
    }
   ],
   "source": [
    "cur.execute(\"SELECT name FROM sqlite_master WHERE type = 'table'\").fetchall()"
   ]
  },
  {
   "cell_type": "markdown",
   "id": "forced-public",
   "metadata": {},
   "source": [
    "`fetchall()` returns a list of tuples, and in this case each tuple has a single element, which is why they each have a trailing comma.\n",
    "\n",
    "Rather than fetching a list all at once into memory, we can access the matching entries one by one from the cursor:"
   ]
  },
  {
   "cell_type": "code",
   "execution_count": 6,
   "id": "stretch-masters",
   "metadata": {},
   "outputs": [
    {
     "name": "stdout",
     "output_type": "stream",
     "text": [
      "('albums',)\n",
      "('sqlite_sequence',)\n",
      "('artists',)\n",
      "('customers',)\n",
      "('employees',)\n",
      "('genres',)\n",
      "('invoices',)\n",
      "('invoice_items',)\n",
      "('media_types',)\n",
      "('playlists',)\n",
      "('playlist_track',)\n",
      "('tracks',)\n",
      "('sqlite_stat1',)\n"
     ]
    }
   ],
   "source": [
    "for row in cur.execute(\"\"\"\n",
    "                        SELECT name\n",
    "                        FROM sqlite_master\n",
    "                        WHERE type = 'table'\n",
    "                        \"\"\"):\n",
    "    print(row)"
   ]
  },
  {
   "cell_type": "markdown",
   "id": "artistic-parts",
   "metadata": {},
   "source": [
    "To look at the columns in a particular table, and inspect their properties, we can use a `PRAGMA` statement:"
   ]
  },
  {
   "cell_type": "code",
   "execution_count": 5,
   "id": "finite-criticism",
   "metadata": {},
   "outputs": [
    {
     "name": "stdout",
     "output_type": "stream",
     "text": [
      "(0, 'AlbumId', 'INTEGER', 1, None, 1)\n",
      "(1, 'Title', 'NVARCHAR(160)', 1, None, 0)\n",
      "(2, 'ArtistId', 'INTEGER', 1, None, 0)\n"
     ]
    }
   ],
   "source": [
    "for row in cur.execute(\"PRAGMA table_info(Albums)\"):\n",
    "    print(row)"
   ]
  },
  {
   "cell_type": "markdown",
   "id": "willing-victory",
   "metadata": {},
   "source": [
    "The `description` attribute of the `cursor` can be used to get just the names of the columns:"
   ]
  },
  {
   "cell_type": "code",
   "execution_count": 8,
   "id": "mineral-voice",
   "metadata": {},
   "outputs": [
    {
     "data": {
      "text/plain": [
       "(('AlbumId', None, None, None, None, None, None),\n",
       " ('Title', None, None, None, None, None, None),\n",
       " ('ArtistId', None, None, None, None, None, None))"
      ]
     },
     "execution_count": 8,
     "metadata": {},
     "output_type": "execute_result"
    }
   ],
   "source": [
    "cur.execute('SELECT * FROM Albums').description"
   ]
  },
  {
   "cell_type": "markdown",
   "id": "palestinian-gasoline",
   "metadata": {},
   "source": [
    "All the Nones are because the description attribute only has one piece of information per column, but has to be a 7-tuple to comply with the Python DB API (Python Docs).\n",
    "\n",
    "This attribute can also be used to get the column names of the output of `PRAGMA table_info(Albums)`:"
   ]
  },
  {
   "cell_type": "code",
   "execution_count": 7,
   "id": "crude-aberdeen",
   "metadata": {},
   "outputs": [
    {
     "data": {
      "text/html": [
       "<div>\n",
       "<style scoped>\n",
       "    .dataframe tbody tr th:only-of-type {\n",
       "        vertical-align: middle;\n",
       "    }\n",
       "\n",
       "    .dataframe tbody tr th {\n",
       "        vertical-align: top;\n",
       "    }\n",
       "\n",
       "    .dataframe thead th {\n",
       "        text-align: right;\n",
       "    }\n",
       "</style>\n",
       "<table border=\"1\" class=\"dataframe\">\n",
       "  <thead>\n",
       "    <tr style=\"text-align: right;\">\n",
       "      <th></th>\n",
       "      <th>AlbumId</th>\n",
       "      <th>Title</th>\n",
       "      <th>ArtistId</th>\n",
       "    </tr>\n",
       "  </thead>\n",
       "  <tbody>\n",
       "    <tr>\n",
       "      <th>0</th>\n",
       "      <td>1</td>\n",
       "      <td>For Those About To Rock We Salute You</td>\n",
       "      <td>1</td>\n",
       "    </tr>\n",
       "    <tr>\n",
       "      <th>1</th>\n",
       "      <td>2</td>\n",
       "      <td>Balls to the Wall</td>\n",
       "      <td>2</td>\n",
       "    </tr>\n",
       "    <tr>\n",
       "      <th>2</th>\n",
       "      <td>3</td>\n",
       "      <td>Restless and Wild</td>\n",
       "      <td>2</td>\n",
       "    </tr>\n",
       "    <tr>\n",
       "      <th>3</th>\n",
       "      <td>4</td>\n",
       "      <td>Let There Be Rock</td>\n",
       "      <td>1</td>\n",
       "    </tr>\n",
       "    <tr>\n",
       "      <th>4</th>\n",
       "      <td>5</td>\n",
       "      <td>Big Ones</td>\n",
       "      <td>3</td>\n",
       "    </tr>\n",
       "  </tbody>\n",
       "</table>\n",
       "</div>"
      ],
      "text/plain": [
       "   AlbumId                                  Title  ArtistId\n",
       "0        1  For Those About To Rock We Salute You         1\n",
       "1        2                      Balls to the Wall         2\n",
       "2        3                      Restless and Wild         2\n",
       "3        4                      Let There Be Rock         1\n",
       "4        5                               Big Ones         3"
      ]
     },
     "execution_count": 7,
     "metadata": {},
     "output_type": "execute_result"
    }
   ],
   "source": [
    "df = pd.read_sql('SELECT * FROM Albums', conn)\n",
    "df\n",
    "df.head()"
   ]
  },
  {
   "cell_type": "code",
   "execution_count": null,
   "id": "lesbian-monroe",
   "metadata": {},
   "outputs": [],
   "source": []
  },
  {
   "cell_type": "markdown",
   "id": "domestic-scottish",
   "metadata": {},
   "source": [
    " from invoice table, can I get employee who closed the sale?\n",
    "    invoice table > dates: how many years of sales do I have in this db?"
   ]
  },
  {
   "cell_type": "markdown",
   "id": "visible-backup",
   "metadata": {},
   "source": [
    "from media_type, what is the most popular media? (i.e. best seller)"
   ]
  },
  {
   "cell_type": "markdown",
   "id": "african-manor",
   "metadata": {},
   "source": [
    "from genres, what is the most popular media? (i.e. best seller)"
   ]
  },
  {
   "cell_type": "code",
   "execution_count": null,
   "id": "polished-dynamics",
   "metadata": {},
   "outputs": [],
   "source": []
  },
  {
   "cell_type": "code",
   "execution_count": null,
   "id": "grateful-badge",
   "metadata": {},
   "outputs": [],
   "source": []
  },
  {
   "cell_type": "code",
   "execution_count": null,
   "id": "ruled-somewhere",
   "metadata": {},
   "outputs": [],
   "source": []
  },
  {
   "cell_type": "code",
   "execution_count": null,
   "id": "strange-uncle",
   "metadata": {},
   "outputs": [],
   "source": []
  },
  {
   "cell_type": "markdown",
   "id": "compound-hospital",
   "metadata": {},
   "source": [
    "https://towardsdatascience.com/sql-in-data-science-af0b4492bcd"
   ]
  },
  {
   "cell_type": "code",
   "execution_count": 8,
   "id": "worldwide-palmer",
   "metadata": {},
   "outputs": [
    {
     "name": "stdout",
     "output_type": "stream",
     "text": [
      "[('albums',), ('sqlite_sequence',), ('artists',), ('customers',), ('employees',), ('genres',), ('invoices',), ('invoice_items',), ('media_types',), ('playlists',), ('playlist_track',), ('tracks',), ('sqlite_stat1',)]\n"
     ]
    }
   ],
   "source": [
    "cur.execute(\"SELECT name FROM sqlite_master WHERE type='table';\")\n",
    "print(cur.fetchall())"
   ]
  },
  {
   "cell_type": "code",
   "execution_count": 29,
   "id": "labeled-auckland",
   "metadata": {},
   "outputs": [
    {
     "data": {
      "text/plain": [
       "(('cid', None, None, None, None, None, None),\n",
       " ('name', None, None, None, None, None, None),\n",
       " ('type', None, None, None, None, None, None),\n",
       " ('notnull', None, None, None, None, None, None),\n",
       " ('dflt_value', None, None, None, None, None, None),\n",
       " ('pk', None, None, None, None, None, None))"
      ]
     },
     "execution_count": 29,
     "metadata": {},
     "output_type": "execute_result"
    }
   ],
   "source": [
    "# cursor.description >>> https://www.psycopg.org/docs/cursor.html\n",
    "\n",
    "# Read-only attribute describing the result of a query. It is a sequence of Column instances, each one describing one result column in order.\n",
    "# The attribute is None for operations that do not return rows or if the cursor has not had an operation invoked via the execute*() methods yet.\n",
    "\n",
    "# For compatibility with the DB-API, every object can be unpacked as a 7-items sequence: the attributes retuned this way are the following. \n",
    "# For further details and other attributes available check the Column documentation.\n",
    "\n",
    "# 1. name\n",
    "# 2. type_code\n",
    "# 3. display_size\n",
    "# 4. internal_size\n",
    "# 5. precision\n",
    "# 6. scale\n",
    "# 7. null_ok\n",
    "\n",
    "\n",
    "cur.description"
   ]
  },
  {
   "cell_type": "code",
   "execution_count": 34,
   "id": "neither-coast",
   "metadata": {},
   "outputs": [
    {
     "name": "stdout",
     "output_type": "stream",
     "text": [
      "(0, 'EmployeeId', 'INTEGER', 1, None, 1)\n",
      "(1, 'LastName', 'NVARCHAR(20)', 1, None, 0)\n",
      "(2, 'FirstName', 'NVARCHAR(20)', 1, None, 0)\n",
      "(3, 'Title', 'NVARCHAR(30)', 0, None, 0)\n",
      "(4, 'ReportsTo', 'INTEGER', 0, None, 0)\n",
      "(5, 'BirthDate', 'DATETIME', 0, None, 0)\n",
      "(6, 'HireDate', 'DATETIME', 0, None, 0)\n",
      "(7, 'Address', 'NVARCHAR(70)', 0, None, 0)\n",
      "(8, 'City', 'NVARCHAR(40)', 0, None, 0)\n",
      "(9, 'State', 'NVARCHAR(40)', 0, None, 0)\n",
      "(10, 'Country', 'NVARCHAR(40)', 0, None, 0)\n",
      "(11, 'PostalCode', 'NVARCHAR(10)', 0, None, 0)\n",
      "(12, 'Phone', 'NVARCHAR(24)', 0, None, 0)\n",
      "(13, 'Fax', 'NVARCHAR(24)', 0, None, 0)\n",
      "(14, 'Email', 'NVARCHAR(60)', 0, None, 0)\n"
     ]
    }
   ],
   "source": [
    "# even more detailed information on each of the tables >>> PRAGMA command\n",
    "cur.execute(\"PRAGMA table_info(Employees)\")\n",
    "info = cur.fetchall()\n",
    "print(*info, sep='\\n')  # The output of this query statement returns the Employee table's \n",
    "                          # Column ID, Column Name, Column Type, Not Null Values, Default Value, and Primary Key."
   ]
  },
  {
   "cell_type": "code",
   "execution_count": 35,
   "id": "convinced-fabric",
   "metadata": {},
   "outputs": [
    {
     "name": "stdout",
     "output_type": "stream",
     "text": [
      "(0, 'InvoiceId', 'INTEGER', 1, None, 1)\n",
      "(1, 'CustomerId', 'INTEGER', 1, None, 0)\n",
      "(2, 'InvoiceDate', 'DATETIME', 1, None, 0)\n",
      "(3, 'BillingAddress', 'NVARCHAR(70)', 0, None, 0)\n",
      "(4, 'BillingCity', 'NVARCHAR(40)', 0, None, 0)\n",
      "(5, 'BillingState', 'NVARCHAR(40)', 0, None, 0)\n",
      "(6, 'BillingCountry', 'NVARCHAR(40)', 0, None, 0)\n",
      "(7, 'BillingPostalCode', 'NVARCHAR(10)', 0, None, 0)\n",
      "(8, 'Total', 'NUMERIC(10,2)', 1, None, 0)\n"
     ]
    }
   ],
   "source": [
    "cur.execute(\"PRAGMA table_info(Invoices)\")\n",
    "info = cur.fetchall()\n",
    "print(*info, sep='\\n')"
   ]
  },
  {
   "cell_type": "code",
   "execution_count": 37,
   "id": "imported-bonus",
   "metadata": {},
   "outputs": [
    {
     "name": "stdout",
     "output_type": "stream",
     "text": [
      "(412,)\n"
     ]
    }
   ],
   "source": [
    "# cur.execute(\"\"\"\n",
    "# SELECT InvoiceDate\n",
    "# FROM Invoices\n",
    "# \"\"\")\n",
    "# info = cur.fetchall()\n",
    "# print(*info, sep='\\n')      years available: 2009-2013\n",
    "\n",
    "cur.execute(\"\"\"\n",
    "SELECT COUNT(*)\n",
    "FROM Invoices\n",
    "\"\"\")\n",
    "info = cur.fetchall()\n",
    "print(*info, sep='\\n')  # I have 412 invoices\n",
    "\n",
    "# ToDo:\n",
    "#     get total sales per month >>> get month from DATETIME\n",
    "#     plot sales per year\n",
    "#     plot sales per month\n",
    "#     >>> is there a 'high season' for this store? Christmas, etc"
   ]
  },
  {
   "cell_type": "code",
   "execution_count": 32,
   "id": "otherwise-launch",
   "metadata": {},
   "outputs": [
    {
     "data": {
      "text/html": [
       "<div>\n",
       "<style scoped>\n",
       "    .dataframe tbody tr th:only-of-type {\n",
       "        vertical-align: middle;\n",
       "    }\n",
       "\n",
       "    .dataframe tbody tr th {\n",
       "        vertical-align: top;\n",
       "    }\n",
       "\n",
       "    .dataframe thead th {\n",
       "        text-align: right;\n",
       "    }\n",
       "</style>\n",
       "<table border=\"1\" class=\"dataframe\">\n",
       "  <thead>\n",
       "    <tr style=\"text-align: right;\">\n",
       "      <th></th>\n",
       "      <th>FirstName</th>\n",
       "      <th>LastName</th>\n",
       "      <th>CustomerId</th>\n",
       "      <th>Country</th>\n",
       "    </tr>\n",
       "  </thead>\n",
       "  <tbody>\n",
       "    <tr>\n",
       "      <th>0</th>\n",
       "      <td>Luís</td>\n",
       "      <td>Gonçalves</td>\n",
       "      <td>1</td>\n",
       "      <td>Brazil</td>\n",
       "    </tr>\n",
       "    <tr>\n",
       "      <th>1</th>\n",
       "      <td>Leonie</td>\n",
       "      <td>Köhler</td>\n",
       "      <td>2</td>\n",
       "      <td>Germany</td>\n",
       "    </tr>\n",
       "    <tr>\n",
       "      <th>2</th>\n",
       "      <td>François</td>\n",
       "      <td>Tremblay</td>\n",
       "      <td>3</td>\n",
       "      <td>Canada</td>\n",
       "    </tr>\n",
       "    <tr>\n",
       "      <th>3</th>\n",
       "      <td>Bjørn</td>\n",
       "      <td>Hansen</td>\n",
       "      <td>4</td>\n",
       "      <td>Norway</td>\n",
       "    </tr>\n",
       "    <tr>\n",
       "      <th>4</th>\n",
       "      <td>František</td>\n",
       "      <td>Wichterlová</td>\n",
       "      <td>5</td>\n",
       "      <td>Czech Republic</td>\n",
       "    </tr>\n",
       "    <tr>\n",
       "      <th>5</th>\n",
       "      <td>Helena</td>\n",
       "      <td>Holý</td>\n",
       "      <td>6</td>\n",
       "      <td>Czech Republic</td>\n",
       "    </tr>\n",
       "    <tr>\n",
       "      <th>6</th>\n",
       "      <td>Astrid</td>\n",
       "      <td>Gruber</td>\n",
       "      <td>7</td>\n",
       "      <td>Austria</td>\n",
       "    </tr>\n",
       "    <tr>\n",
       "      <th>7</th>\n",
       "      <td>Daan</td>\n",
       "      <td>Peeters</td>\n",
       "      <td>8</td>\n",
       "      <td>Belgium</td>\n",
       "    </tr>\n",
       "    <tr>\n",
       "      <th>8</th>\n",
       "      <td>Kara</td>\n",
       "      <td>Nielsen</td>\n",
       "      <td>9</td>\n",
       "      <td>Denmark</td>\n",
       "    </tr>\n",
       "    <tr>\n",
       "      <th>9</th>\n",
       "      <td>Eduardo</td>\n",
       "      <td>Martins</td>\n",
       "      <td>10</td>\n",
       "      <td>Brazil</td>\n",
       "    </tr>\n",
       "  </tbody>\n",
       "</table>\n",
       "</div>"
      ],
      "text/plain": [
       "   FirstName     LastName  CustomerId         Country\n",
       "0       Luís    Gonçalves           1          Brazil\n",
       "1     Leonie       Köhler           2         Germany\n",
       "2   François     Tremblay           3          Canada\n",
       "3      Bjørn       Hansen           4          Norway\n",
       "4  František  Wichterlová           5  Czech Republic\n",
       "5     Helena         Holý           6  Czech Republic\n",
       "6     Astrid       Gruber           7         Austria\n",
       "7       Daan      Peeters           8         Belgium\n",
       "8       Kara      Nielsen           9         Denmark\n",
       "9    Eduardo      Martins          10          Brazil"
      ]
     },
     "execution_count": 32,
     "metadata": {},
     "output_type": "execute_result"
    }
   ],
   "source": [
    "cur.execute(\"\"\"\n",
    "    SELECT FirstName, LastName, CustomerId, Country\n",
    "    FROM Customers\n",
    "    WHERE Country != 'USA'\n",
    "\"\"\")\n",
    "df = pd.DataFrame(cur.fetchall())\n",
    "df.columns = [x[0] for x in cur.description]\n",
    "df.head(10)"
   ]
  },
  {
   "cell_type": "code",
   "execution_count": 21,
   "id": "neutral-contract",
   "metadata": {},
   "outputs": [
    {
     "name": "stdout",
     "output_type": "stream",
     "text": [
      "('Breathe', 212, 2613, 299781)\n",
      "('Queixa', 23, 524, 299676)\n",
      "('Getaway Car', 10, 97, 299598)\n",
      "('Winterlong', 201, 2485, 299389)\n",
      "('Cherub Rock', 202, 2491, 299389)\n",
      "('Sonata for Solo Violin: IV: Presto', 325, 3480, 299350)\n",
      "('Linha Do Equador', 21, 218, 299337)\n",
      "('Who Are You (Single Edit Version)', 221, 2749, 299232)\n",
      "('Garden', 181, 2201, 299154)\n",
      "('The Spirit Of Radio', 196, 2406, 299154)\n"
     ]
    }
   ],
   "source": [
    "cur.execute(\"\"\"\n",
    "    SELECT Name, AlbumId, TrackId, Milliseconds\n",
    "    FROM Tracks\n",
    "    WHERE Milliseconds BETWEEN 205205 AND 300000\n",
    "    ORDER BY Milliseconds Desc\n",
    "    LIMIT 10\n",
    "\"\"\")\n",
    "info = cur.fetchall()\n",
    "print(*info, sep = \"\\n\")"
   ]
  },
  {
   "cell_type": "code",
   "execution_count": 33,
   "id": "right-bennett",
   "metadata": {},
   "outputs": [
    {
     "name": "stdout",
     "output_type": "stream",
     "text": [
      "('USA', 523.0600000000003)\n",
      "('Canada', 303.9599999999999)\n",
      "('France', 195.09999999999994)\n",
      "('Brazil', 190.09999999999997)\n",
      "('Germany', 156.48)\n",
      "('United Kingdom', 112.85999999999999)\n",
      "('Czech Republic', 90.24000000000001)\n",
      "('Portugal', 77.23999999999998)\n",
      "('India', 75.25999999999999)\n",
      "('Chile', 46.62)\n",
      "('Ireland', 45.62)\n",
      "('Hungary', 45.62)\n",
      "('Austria', 42.62)\n",
      "('Finland', 41.620000000000005)\n",
      "('Netherlands', 40.62)\n",
      "('Norway', 39.62)\n",
      "('Sweden', 38.620000000000005)\n",
      "('Poland', 37.620000000000005)\n",
      "('Italy', 37.620000000000005)\n",
      "('Denmark', 37.620000000000005)\n",
      "('Australia', 37.620000000000005)\n",
      "('Argentina', 37.620000000000005)\n",
      "('Spain', 37.62)\n",
      "('Belgium', 37.62)\n"
     ]
    }
   ],
   "source": [
    "# Aggregate Functions\n",
    "# These SQL functions can be really helpful when performing statistical analysis. \n",
    "# We can get the average values, minimum and maximum values, and the sum of values in a column. \n",
    "# The COUNT function returns the number of records that meet a certain condition.\n",
    "\n",
    "# The GROUP BY function will return your results grouped together by a set column. \n",
    "# Examples of this would be grouping results by gender, breed, or nationality.\n",
    "\n",
    "# Below is an example query for total sales per country with the results being grouped by each country.\n",
    "# I am also aliasing the sum of totals as ‘TotalSales’ in order to group the results by the total sales for each country.\n",
    "\n",
    "cur.execute('''\n",
    "    SELECT i.BillingCountry, sum(Total) as 'TotalSales'\n",
    "    FROM Invoices AS i\n",
    "    GROUP BY BillingCountry\n",
    "    ORDER BY TotalSales DESC\n",
    "    '''\n",
    ")\n",
    "            \n",
    "info = cur.fetchall()\n",
    "print(*info, sep = \"\\n\")"
   ]
  },
  {
   "cell_type": "code",
   "execution_count": null,
   "id": "gorgeous-norway",
   "metadata": {},
   "outputs": [],
   "source": []
  },
  {
   "cell_type": "code",
   "execution_count": null,
   "id": "optional-pakistan",
   "metadata": {},
   "outputs": [],
   "source": [
    "# ToDo:\n",
    "#     Get most profitable:\n",
    "#         Genres\n",
    "#         Band\n",
    "#         Artist\n",
    "#         by nationality\n",
    "#         by language\n",
    "#         >>> plot\n",
    "#     Get Top Sales?:\n",
    "#         per Country\n",
    "#         per Customer\n",
    "#         >>> plot\n",
    "#     Get most popular:\n",
    "#         Band\n",
    "#         Artist\n",
    "#         Genres\n",
    "#         >>> plot    "
   ]
  },
  {
   "cell_type": "code",
   "execution_count": null,
   "id": "improved-nerve",
   "metadata": {},
   "outputs": [],
   "source": []
  },
  {
   "cell_type": "code",
   "execution_count": null,
   "id": "future-delhi",
   "metadata": {},
   "outputs": [],
   "source": []
  }
 ],
 "metadata": {
  "kernelspec": {
   "display_name": "Python 3",
   "language": "python",
   "name": "python3"
  },
  "language_info": {
   "codemirror_mode": {
    "name": "ipython",
    "version": 3
   },
   "file_extension": ".py",
   "mimetype": "text/x-python",
   "name": "python",
   "nbconvert_exporter": "python",
   "pygments_lexer": "ipython3",
   "version": "3.7.6"
  }
 },
 "nbformat": 4,
 "nbformat_minor": 5
}
